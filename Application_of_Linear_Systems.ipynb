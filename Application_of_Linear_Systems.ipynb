{
  "nbformat": 4,
  "nbformat_minor": 0,
  "metadata": {
    "colab": {
      "name": "Application of Linear Systems.ipynb",
      "provenance": [],
      "authorship_tag": "ABX9TyMaboliXfoxNRfJc3/8FfQH",
      "include_colab_link": true
    },
    "kernelspec": {
      "name": "python3",
      "display_name": "Python 3"
    },
    "language_info": {
      "name": "python"
    }
  },
  "cells": [
    {
      "cell_type": "markdown",
      "metadata": {
        "id": "view-in-github",
        "colab_type": "text"
      },
      "source": [
        "<a href=\"https://colab.research.google.com/github/LanceDelRosario/Linear-Algebra-58020/blob/main/Application_of_Linear_Systems.ipynb\" target=\"_parent\"><img src=\"https://colab.research.google.com/assets/colab-badge.svg\" alt=\"Open In Colab\"/></a>"
      ]
    },
    {
      "cell_type": "markdown",
      "metadata": {
        "id": "UrHEJsqia-FM"
      },
      "source": [
        "#Systems of Linear Equations\n",
        "##Systems of Linear Equations can be solved with arrays and NumPy"
      ]
    },
    {
      "cell_type": "code",
      "metadata": {
        "colab": {
          "base_uri": "https://localhost:8080/"
        },
        "id": "GxfBmCAJa-sc",
        "outputId": "f07f739f-2599-4866-f76c-210d1ec7c7dd"
      },
      "source": [
        "import numpy as np\n",
        "\n",
        "A = np.array([[4,5],[3,-2]])\n",
        "print(A)\n",
        "\n",
        "B = np.array([[7],[11]])\n",
        "print(B)\n",
        "\n",
        "##1st possible solution\n",
        "inv_A = np.linalg.inv(A)\n",
        "print(inv_A)\n",
        "X = np.dot(inv_A,B)\n",
        "print(X)\n",
        "\n",
        "##shorter version of 1st sol'n\n",
        "x = np.linalg.inv(A).dot(B)\n",
        "print(x)"
      ],
      "execution_count": 2,
      "outputs": [
        {
          "output_type": "stream",
          "name": "stdout",
          "text": [
            "[[ 4  5]\n",
            " [ 3 -2]]\n",
            "[[ 7]\n",
            " [11]]\n",
            "[[ 0.08695652  0.2173913 ]\n",
            " [ 0.13043478 -0.17391304]]\n",
            "[[ 3.]\n",
            " [-1.]]\n",
            "[[ 3.]\n",
            " [-1.]]\n"
          ]
        }
      ]
    },
    {
      "cell_type": "code",
      "metadata": {
        "colab": {
          "base_uri": "https://localhost:8080/"
        },
        "id": "j3wiI4LucXG3",
        "outputId": "513b91ee-63b3-4591-edbb-d8718794ee15"
      },
      "source": [
        "##NP.LINALG.SOLVE\n",
        "import numpy as np\n",
        "X = np.linalg.solve(A,B)\n",
        "print(X)\n",
        "\n"
      ],
      "execution_count": 3,
      "outputs": [
        {
          "output_type": "stream",
          "name": "stdout",
          "text": [
            "[[ 3.]\n",
            " [-1.]]\n"
          ]
        }
      ]
    },
    {
      "cell_type": "code",
      "metadata": {
        "colab": {
          "base_uri": "https://localhost:8080/"
        },
        "id": "bw2AMwBzbmJf",
        "outputId": "1ed5ec78-7465-4c19-bef3-69e302fe468c"
      },
      "source": [
        "##use of SciPy\n",
        "from scipy.linalg import solve\n",
        "X = solve(A,B)\n",
        "print(X)"
      ],
      "execution_count": 7,
      "outputs": [
        {
          "output_type": "stream",
          "name": "stdout",
          "text": [
            "[[ 3.]\n",
            " [-1.]]\n"
          ]
        }
      ]
    }
  ]
}