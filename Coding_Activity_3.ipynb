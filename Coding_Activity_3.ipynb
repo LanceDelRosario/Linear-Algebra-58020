{
  "nbformat": 4,
  "nbformat_minor": 0,
  "metadata": {
    "colab": {
      "name": "Coding Activity 3.ipynb",
      "provenance": [],
      "authorship_tag": "ABX9TyPBfk7JExtPeIdB9cAhYijw",
      "include_colab_link": true
    },
    "kernelspec": {
      "name": "python3",
      "display_name": "Python 3"
    },
    "language_info": {
      "name": "python"
    }
  },
  "cells": [
    {
      "cell_type": "markdown",
      "metadata": {
        "id": "view-in-github",
        "colab_type": "text"
      },
      "source": [
        "<a href=\"https://colab.research.google.com/github/LanceDelRosario/Linear-Algebra-58020/blob/main/Coding_Activity_3.ipynb\" target=\"_parent\"><img src=\"https://colab.research.google.com/assets/colab-badge.svg\" alt=\"Open In Colab\"/></a>"
      ]
    },
    {
      "cell_type": "markdown",
      "metadata": {
        "id": "ffGLEH9Vf8Rl"
      },
      "source": [
        "#Transpose 3x3"
      ]
    },
    {
      "cell_type": "code",
      "metadata": {
        "colab": {
          "base_uri": "https://localhost:8080/"
        },
        "id": "kA3kf_JQlgrT",
        "outputId": "93e60751-3881-42d2-8acf-700251c16e7a"
      },
      "source": [
        "import numpy as np\n",
        "A = np.array([[1,2,3], [4,5,6], [7,8,9]]) #instiantiate an array first\n",
        "print(\"Original Matrix \\n\", A,\"\\n\")\n",
        "\n",
        "B = np.transpose(A) #then transpose using numpy command\n",
        "print(\"Transposed Matrix\")\n",
        "print(B)\n"
      ],
      "execution_count": 67,
      "outputs": [
        {
          "output_type": "stream",
          "name": "stdout",
          "text": [
            "Original Matrix \n",
            " [[1 2 3]\n",
            " [4 5 6]\n",
            " [7 8 9]] \n",
            "\n",
            "Transposed Matrix\n",
            "[[1 4 7]\n",
            " [2 5 8]\n",
            " [3 6 9]]\n"
          ]
        }
      ]
    },
    {
      "cell_type": "markdown",
      "metadata": {
        "id": "DhGCOYRqgBEa"
      },
      "source": [
        "#Transpose 4x4"
      ]
    },
    {
      "cell_type": "code",
      "metadata": {
        "colab": {
          "base_uri": "https://localhost:8080/"
        },
        "id": "mAfzcG-AeUX9",
        "outputId": "fac76266-ccd6-4a2e-ff3e-4efaa2ec3365"
      },
      "source": [
        "import numpy as np\n",
        "A = np.array([[1,2,3,4], [5,6,7,8], [9,10,11,12], [13,14,15,16]]) #instiantiate an array first\n",
        "print(\"Original Matrix \\n\", A,\"\\n\")\n",
        "\n",
        "B = np.transpose(A) #then transpose using numpy command\n",
        "print(\"Transposed Matrix\")\n",
        "print(B)\n"
      ],
      "execution_count": 68,
      "outputs": [
        {
          "output_type": "stream",
          "name": "stdout",
          "text": [
            "Original Matrix \n",
            " [[ 1  2  3  4]\n",
            " [ 5  6  7  8]\n",
            " [ 9 10 11 12]\n",
            " [13 14 15 16]] \n",
            "\n",
            "Transposed Matrix\n",
            "[[ 1  5  9 13]\n",
            " [ 2  6 10 14]\n",
            " [ 3  7 11 15]\n",
            " [ 4  8 12 16]]\n"
          ]
        }
      ]
    },
    {
      "cell_type": "markdown",
      "metadata": {
        "id": "H594-qj5hGpO"
      },
      "source": [
        "#Inverse 3x3"
      ]
    },
    {
      "cell_type": "code",
      "metadata": {
        "colab": {
          "base_uri": "https://localhost:8080/"
        },
        "id": "kU92MQZpnW1j",
        "outputId": "14e6304e-edea-40d7-8ccc-9d3848b6d44c"
      },
      "source": [
        "import numpy as np\n",
        "A=np.array([[11,12,13],[14,15,16],[17,18,19]]) #instiantiate an array first\n",
        "print(\"Original Matrix \\n\", A,\"\\n\")\n",
        "\n",
        "B=np.linalg.inv(A)\n",
        "print(\"Inversed Matrix\")\n",
        "print(B)"
      ],
      "execution_count": 116,
      "outputs": [
        {
          "output_type": "stream",
          "name": "stdout",
          "text": [
            "Original Matrix \n",
            " [[11 12 13]\n",
            " [14 15 16]\n",
            " [17 18 19]] \n",
            "\n",
            "Inversed Matrix\n",
            "[[ 1.40737488e+14 -2.81474977e+14  1.40737488e+14]\n",
            " [-2.81474977e+14  5.62949953e+14 -2.81474977e+14]\n",
            " [ 1.40737488e+14 -2.81474977e+14  1.40737488e+14]]\n"
          ]
        }
      ]
    },
    {
      "cell_type": "markdown",
      "metadata": {
        "id": "ugd3i8D7nN3r"
      },
      "source": [
        "#Inverse 4x4"
      ]
    },
    {
      "cell_type": "code",
      "metadata": {
        "colab": {
          "base_uri": "https://localhost:8080/"
        },
        "id": "rivJ_lnopSUk",
        "outputId": "6910e19a-1f96-4c43-dc52-594f736cfee3"
      },
      "source": [
        "import numpy as np\n",
        "A=np.array([[1,2,2,3],[3,6,8,8],[9,9,11,12],[13,15,15,16]]) #instiantiate an array first\n",
        "print(\"Original Matrix \\n\", A,\"\\n\")\n",
        "\n",
        "B=np.linalg.inv(A)\n",
        "print(\"Inverse matrix\")\n",
        "print(B)"
      ],
      "execution_count": 118,
      "outputs": [
        {
          "output_type": "stream",
          "name": "stdout",
          "text": [
            "Original Matrix \n",
            " [[ 1  2  2  3]\n",
            " [ 3  6  8  8]\n",
            " [ 9  9 11 12]\n",
            " [13 15 15 16]] \n",
            "\n",
            "Inverse matrix\n",
            "[[-0.22641509 -0.24528302  0.24528302 -0.01886792]\n",
            " [ 0.18867925  0.03773585 -0.53773585  0.3490566 ]\n",
            " [-1.01886792  0.39622642  0.10377358 -0.08490566]\n",
            " [ 0.96226415 -0.20754717  0.20754717 -0.16981132]]\n"
          ]
        }
      ]
    }
  ]
}