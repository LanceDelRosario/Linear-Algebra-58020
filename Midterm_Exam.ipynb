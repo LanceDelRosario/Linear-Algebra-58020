{
  "nbformat": 4,
  "nbformat_minor": 0,
  "metadata": {
    "colab": {
      "name": "Midterm Exam.ipynb",
      "provenance": [],
      "authorship_tag": "ABX9TyMDiGCdul2uypAT5zPU3DGL",
      "include_colab_link": true
    },
    "kernelspec": {
      "name": "python3",
      "display_name": "Python 3"
    },
    "language_info": {
      "name": "python"
    }
  },
  "cells": [
    {
      "cell_type": "markdown",
      "metadata": {
        "id": "view-in-github",
        "colab_type": "text"
      },
      "source": [
        "<a href=\"https://colab.research.google.com/github/LanceDelRosario/Linear-Algebra-58020/blob/main/Midterm_Exam.ipynb\" target=\"_parent\"><img src=\"https://colab.research.google.com/assets/colab-badge.svg\" alt=\"Open In Colab\"/></a>"
      ]
    },
    {
      "cell_type": "markdown",
      "metadata": {
        "id": "5KiP6SBR6ajN"
      },
      "source": [
        "##Midterm Exam\n"
      ]
    },
    {
      "cell_type": "markdown",
      "metadata": {
        "id": "W8o4FRKO8I40"
      },
      "source": [
        "Question 1. Create a Python code that displays a square matrix whose length is 5 (10 points)"
      ]
    },
    {
      "cell_type": "code",
      "metadata": {
        "colab": {
          "base_uri": "https://localhost:8080/"
        },
        "id": "nkDFYEdO8LNu",
        "outputId": "268100c4-b8c1-4417-cb39-ee629ea74af1"
      },
      "source": [
        "import numpy as np\n",
        "a =np.full((5,5),0)\n",
        "print(a)"
      ],
      "execution_count": 11,
      "outputs": [
        {
          "output_type": "stream",
          "name": "stdout",
          "text": [
            "[[0 0 0 0 0]\n",
            " [0 0 0 0 0]\n",
            " [0 0 0 0 0]\n",
            " [0 0 0 0 0]\n",
            " [0 0 0 0 0]]\n"
          ]
        }
      ]
    },
    {
      "cell_type": "markdown",
      "metadata": {
        "id": "t9uJea4E8kdG"
      },
      "source": [
        "Question 2. Create a Python code that displays a square matrix whose elements below the principal diagonal are zero (10 points)"
      ]
    },
    {
      "cell_type": "code",
      "metadata": {
        "colab": {
          "base_uri": "https://localhost:8080/"
        },
        "id": "UYuVnkca8lmn",
        "outputId": "1e546b1f-82e4-4247-93e4-eb7c86bbb27a"
      },
      "source": [
        "import numpy as np\n",
        "b = np.array([[1,1,1,1],[0,1,1,1],[0,0,1,1],[0,0,0,1]])\n",
        "print(b)"
      ],
      "execution_count": 12,
      "outputs": [
        {
          "output_type": "stream",
          "name": "stdout",
          "text": [
            "[[1 1 1 1]\n",
            " [0 1 1 1]\n",
            " [0 0 1 1]\n",
            " [0 0 0 1]]\n"
          ]
        }
      ]
    },
    {
      "cell_type": "markdown",
      "metadata": {
        "id": "Iy1L4Jrm-jNG"
      },
      "source": [
        "Question 3. Create a Python code that displays a square matrix which is symmetrical (10 points)"
      ]
    },
    {
      "cell_type": "code",
      "metadata": {
        "colab": {
          "base_uri": "https://localhost:8080/"
        },
        "id": "Ulylf8Dt-lNV",
        "outputId": "fcd3c245-c4b2-47c0-c51e-a0ec9d227f5d"
      },
      "source": [
        "import numpy as np\n",
        "c = np.array([[1,2,3],[2,5,2],[3,2,1]])\n",
        "print(c)"
      ],
      "execution_count": 13,
      "outputs": [
        {
          "output_type": "stream",
          "name": "stdout",
          "text": [
            "[[1 2 3]\n",
            " [2 5 2]\n",
            " [3 2 1]]\n"
          ]
        }
      ]
    },
    {
      "cell_type": "markdown",
      "metadata": {
        "id": "_TQayuvS_7Tf"
      },
      "source": [
        "Question 4. What is the inverse of matrix C? Show your solution by python coding. (20 points)"
      ]
    },
    {
      "cell_type": "code",
      "metadata": {
        "colab": {
          "base_uri": "https://localhost:8080/"
        },
        "id": "JM0OFECr_9el",
        "outputId": "10859259-b7cf-49cc-938a-b1c8464da261"
      },
      "source": [
        "import numpy as np\n",
        "C=np.array([[1,2,3],[2,3,3],[3,4,-2]])\n",
        "print(\"Given Matrix C\\n\",C)\n",
        "Cinv=np.linalg.inv(C)\n",
        "print(\"\\nInverse Matrix of C\\n\",Cinv)"
      ],
      "execution_count": 17,
      "outputs": [
        {
          "output_type": "stream",
          "name": "stdout",
          "text": [
            "Given Matrix C\n",
            " [[ 1  2  3]\n",
            " [ 2  3  3]\n",
            " [ 3  4 -2]]\n",
            "\n",
            "Inverse Matrix of C\n",
            " [[-3.6  3.2 -0.6]\n",
            " [ 2.6 -2.2  0.6]\n",
            " [-0.2  0.4 -0.2]]\n"
          ]
        }
      ]
    },
    {
      "cell_type": "markdown",
      "metadata": {
        "id": "dyQgncO_BqOv"
      },
      "source": [
        "Question 5. What is the determinant of the given matrix in Question 4? Show your solution by python coding. (20 points)"
      ]
    },
    {
      "cell_type": "code",
      "metadata": {
        "colab": {
          "base_uri": "https://localhost:8080/"
        },
        "id": "E3iEWpQkBrz-",
        "outputId": "7eda6427-8083-4d58-f077-8d943dd4404a"
      },
      "source": [
        "import numpy as np\n",
        "C=np.array([[1,2,3],[2,3,3],[3,4,-2]])\n",
        "print(\"Given Matrix C\\n\",C)\n",
        "Cdet = np.linalg.det(C)\n",
        "print(\"\\nDeterminant of Matrix C\\n\",Cdet)"
      ],
      "execution_count": 19,
      "outputs": [
        {
          "output_type": "stream",
          "name": "stdout",
          "text": [
            "Given Matrix C\n",
            " [[ 1  2  3]\n",
            " [ 2  3  3]\n",
            " [ 3  4 -2]]\n",
            "\n",
            "Determinant of Matrix C\n",
            " 5.000000000000001\n"
          ]
        }
      ]
    },
    {
      "cell_type": "markdown",
      "metadata": {
        "id": "9QYDNe4LCvIR"
      },
      "source": [
        "Question 6. Find the roots of the linear equations by showing its python codes (30 points)\n",
        "\n",
        "5X1 + 4X2 + X3 = 3.4\n",
        "\n",
        "10X1 + 9X2 + 4X3 = 8.8\n",
        "\n",
        "10X1 + 13X2 + 15X3 = 19.2"
      ]
    },
    {
      "cell_type": "code",
      "metadata": {
        "colab": {
          "base_uri": "https://localhost:8080/"
        },
        "id": "VfjmgY7qCvyV",
        "outputId": "5f87136f-7965-4b49-8229-e8d6567260e8"
      },
      "source": [
        "import numpy as np \n",
        "D = np.array([[5,4,1],[10,9,4],[10,13,15]])\n",
        "Dinv=np.linalg.inv(D)\n",
        "E = np.array([[3.4],[8.8],[19.2]])\n",
        "\n",
        "print(D)\n",
        "print(\"\\nInverse\\n\",Dinv)\n",
        "print(\"\\n\",E)\n",
        "\n",
        "##solve\n",
        "ans = np.dot(Dinv,E)\n",
        "print(\"\\nFinal Answer is\\n\",ans)\n",
        "\n",
        "\n"
      ],
      "execution_count": 28,
      "outputs": [
        {
          "output_type": "stream",
          "name": "stdout",
          "text": [
            "[[ 5  4  1]\n",
            " [10  9  4]\n",
            " [10 13 15]]\n",
            "\n",
            "Inverse\n",
            " [[ 5.53333333 -3.13333333  0.46666667]\n",
            " [-7.33333333  4.33333333 -0.66666667]\n",
            " [ 2.66666667 -1.66666667  0.33333333]]\n",
            "\n",
            " [[ 3.4]\n",
            " [ 8.8]\n",
            " [19.2]]\n",
            "\n",
            "Final Answer is\n",
            " [[0.2]\n",
            " [0.4]\n",
            " [0.8]]\n"
          ]
        }
      ]
    }
  ]
}