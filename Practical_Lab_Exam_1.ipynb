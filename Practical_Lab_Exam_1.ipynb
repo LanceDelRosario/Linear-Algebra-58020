{
  "nbformat": 4,
  "nbformat_minor": 0,
  "metadata": {
    "colab": {
      "name": "Practical Lab Exam 1.ipynb",
      "provenance": [],
      "authorship_tag": "ABX9TyPwP22Y/LiWWGPfUG+b6cFY",
      "include_colab_link": true
    },
    "kernelspec": {
      "name": "python3",
      "display_name": "Python 3"
    },
    "language_info": {
      "name": "python"
    }
  },
  "cells": [
    {
      "cell_type": "markdown",
      "metadata": {
        "id": "view-in-github",
        "colab_type": "text"
      },
      "source": [
        "<a href=\"https://colab.research.google.com/github/LanceDelRosario/Linear-Algebra-58020/blob/main/Practical_Lab_Exam_1.ipynb\" target=\"_parent\"><img src=\"https://colab.research.google.com/assets/colab-badge.svg\" alt=\"Open In Colab\"/></a>"
      ]
    },
    {
      "cell_type": "markdown",
      "metadata": {
        "id": "YNagMAB7-p_i"
      },
      "source": [
        "#Practical Lab Exam 1\n",
        "\n"
      ]
    },
    {
      "cell_type": "markdown",
      "metadata": {
        "id": "UcjaQ9aDKgkL"
      },
      "source": [
        "Problem 1"
      ]
    },
    {
      "cell_type": "code",
      "metadata": {
        "colab": {
          "base_uri": "https://localhost:8080/"
        },
        "id": "KQXzJi2j-uAG",
        "outputId": "de33aecf-a457-4c5a-b19e-38e387c65a31"
      },
      "source": [
        "import numpy as np\n",
        "\n",
        "W = np.array([[1,-3],\n",
        "             [2,-2],\n",
        "             [3,1]])\n",
        "\n",
        "X = np.array([[3,2,1],\n",
        "            [-1,2,3],\n",
        "            [2,-1,1]])\n",
        "\n",
        "Y= np.array([[1,2,0],\n",
        "           [0,-1,2]])\n",
        "\n",
        "Z = np.array([[0,1],\n",
        "            [2,3]])\n",
        "\n",
        "#a.WY\n",
        "print(\"a.WY\")\n",
        "a = np.dot(W,Y)\n",
        "print(a,\"\\n\")\n",
        "\n",
        "#b.Z+Z\n",
        "print (\"b.Z+Z\")\n",
        "b = np.add(Z,Z)\n",
        "print(b,\"\\n\")\n",
        "\n",
        "#c.3X\n",
        "print(\"c.3X\")\n",
        "c = np.power(X, 3)\n",
        "print(c,\"\\n\")"
      ],
      "execution_count": 45,
      "outputs": [
        {
          "output_type": "stream",
          "name": "stdout",
          "text": [
            "a.WY\n",
            "[[ 1  5 -6]\n",
            " [ 2  6 -4]\n",
            " [ 3  5  2]] \n",
            "\n",
            "b.Z+Z\n",
            "[[0 2]\n",
            " [4 6]] \n",
            "\n",
            "c.3X\n",
            "[[27  8  1]\n",
            " [-1  8 27]\n",
            " [ 8 -1  1]] \n",
            "\n"
          ]
        }
      ]
    },
    {
      "cell_type": "markdown",
      "metadata": {
        "id": "Npoc7UDhKk0s"
      },
      "source": [
        "Problem 2"
      ]
    },
    {
      "cell_type": "code",
      "metadata": {
        "colab": {
          "base_uri": "https://localhost:8080/"
        },
        "id": "HHnjHf5HKmd8",
        "outputId": "1a64b18c-2c0f-4fc3-d723-d1a152d33ceb"
      },
      "source": [
        "import numpy as np\n",
        "\n",
        "W = np.array([[1,-3],\n",
        "             [2,-2],\n",
        "             [3,1]])\n",
        "\n",
        "X = np.array([[3,2,1],\n",
        "            [-1,2,3],\n",
        "            [2,-1,1]])\n",
        "\n",
        "Y= np.array([[1,2,0],\n",
        "           [0,-1,2]])\n",
        "\n",
        "Z = np.array([[0,1],\n",
        "            [2,3]])\n",
        "\n",
        "#A.The product (YW)^2 is not defined\n",
        "print(\"A.The product (YW)2 is not defined\")\n",
        "A1 = np.dot(Y,W)\n",
        "print(np.power(A1,2),'\\n')\n",
        "print(np.dot(Y,W)^2)\n",
        "\n",
        "\n",
        "#B.WY-X\n",
        "print(\"B.WY-X\")\n",
        "B1 = np.dot(W,Y)\n",
        "B = np.subtract(B1,X)\n",
        "print (B,\"\\n\")\n",
        "\n",
        "#C.YW – Z^2 =\n",
        "print(\"C. YW – Z^2\")\n",
        "C1 = np.dot(Y,W)\n",
        "C2 = np.power(Z,2)\n",
        "C = np.subtract(C1,C2)\n",
        "print(C)\n",
        "\n",
        "\n",
        "\n",
        "\n"
      ],
      "execution_count": 78,
      "outputs": [
        {
          "output_type": "stream",
          "name": "stdout",
          "text": [
            "A.The product (YW)2 is not defined\n",
            "[[25 49]\n",
            " [16 16]] \n",
            "\n",
            "[[ 7 -5]\n",
            " [ 6  6]]\n",
            "B.WY-X\n",
            "[[-2  3 -7]\n",
            " [ 3  4 -7]\n",
            " [ 1  6  1]] \n",
            "\n",
            "C. YW – Z^2\n",
            "[[ 5 -8]\n",
            " [ 0 -5]]\n"
          ]
        }
      ]
    }
  ]
}