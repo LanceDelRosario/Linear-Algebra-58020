{
  "nbformat": 4,
  "nbformat_minor": 0,
  "metadata": {
    "colab": {
      "name": "Pyhton Exercise 1",
      "provenance": [],
      "authorship_tag": "ABX9TyNi5aOt1XC+jHSymYR9Dt2q",
      "include_colab_link": true
    },
    "kernelspec": {
      "name": "python3",
      "display_name": "Python 3"
    },
    "language_info": {
      "name": "python"
    }
  },
  "cells": [
    {
      "cell_type": "markdown",
      "metadata": {
        "id": "view-in-github",
        "colab_type": "text"
      },
      "source": [
        "<a href=\"https://colab.research.google.com/github/LanceDelRosario/Linear-Algebra-58020/blob/main/Pyhton_Exercise_1.ipynb\" target=\"_parent\"><img src=\"https://colab.research.google.com/assets/colab-badge.svg\" alt=\"Open In Colab\"/></a>"
      ]
    },
    {
      "cell_type": "markdown",
      "metadata": {
        "id": "KnkEzU5YKsHx"
      },
      "source": [
        "#Matrix and its operation"
      ]
    },
    {
      "cell_type": "code",
      "metadata": {
        "colab": {
          "base_uri": "https://localhost:8080/"
        },
        "id": "NeJdgcw5KvXk",
        "outputId": "bc8429fd-aec5-455a-81f5-ea4ff3257357"
      },
      "source": [
        "#The Matrices\n",
        "\n",
        "import numpy as np\n",
        "\n",
        "A = np.array ([[-5,0],[4,1]])\n",
        "B = np.array ([[6,-3],[2,3]])\n",
        "\n",
        "print(A)\n",
        "print(B)"
      ],
      "execution_count": 10,
      "outputs": [
        {
          "output_type": "stream",
          "name": "stdout",
          "text": [
            "[[-5  0]\n",
            " [ 4  1]]\n",
            "[[ 6 -3]\n",
            " [ 2  3]]\n"
          ]
        }
      ]
    },
    {
      "cell_type": "code",
      "metadata": {
        "colab": {
          "base_uri": "https://localhost:8080/"
        },
        "id": "RwY5CwcONswu",
        "outputId": "48c3d4a9-6615-47ea-e376-77a3abbd9631"
      },
      "source": [
        "#sum = A +B\n",
        "\n",
        "print(A + B)"
      ],
      "execution_count": 11,
      "outputs": [
        {
          "output_type": "stream",
          "name": "stdout",
          "text": [
            "[[ 1 -3]\n",
            " [ 6  4]]\n"
          ]
        }
      ]
    },
    {
      "cell_type": "code",
      "metadata": {
        "colab": {
          "base_uri": "https://localhost:8080/"
        },
        "id": "OcNmSTz9OHZZ",
        "outputId": "07c3e34b-2d31-4cfb-db53-cc6480d58f17"
      },
      "source": [
        "#difference1 = A - B\n",
        "\n",
        "print(A-B)"
      ],
      "execution_count": 12,
      "outputs": [
        {
          "output_type": "stream",
          "name": "stdout",
          "text": [
            "[[-11   3]\n",
            " [  2  -2]]\n"
          ]
        }
      ]
    },
    {
      "cell_type": "code",
      "metadata": {
        "colab": {
          "base_uri": "https://localhost:8080/"
        },
        "id": "aNq4XfzgOOQr",
        "outputId": "49716186-d7f2-4eb9-bea5-5e8be9dd3fac"
      },
      "source": [
        "#difference2 = B - B\n",
        "\n",
        "print(B-B)"
      ],
      "execution_count": 13,
      "outputs": [
        {
          "output_type": "stream",
          "name": "stdout",
          "text": [
            "[[0 0]\n",
            " [0 0]]\n"
          ]
        }
      ]
    }
  ]
}