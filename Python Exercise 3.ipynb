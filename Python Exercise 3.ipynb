{
  "nbformat": 4,
  "nbformat_minor": 0,
  "metadata": {
    "colab": {
      "name": "Linear Transformation.ipynb",
      "provenance": [],
      "authorship_tag": "ABX9TyNpiUEmjicmwv72KUprLNwL",
      "include_colab_link": true
    },
    "kernelspec": {
      "name": "python3",
      "display_name": "Python 3"
    },
    "language_info": {
      "name": "python"
    }
  },
  "cells": [
    {
      "cell_type": "markdown",
      "metadata": {
        "id": "view-in-github",
        "colab_type": "text"
      },
      "source": [
        "<a href=\"https://colab.research.google.com/github/LanceDelRosario/Linear-Algebra-58020/blob/main/Python%20Exercise%203.ipynb\" target=\"_parent\"><img src=\"https://colab.research.google.com/assets/colab-badge.svg\" alt=\"Open In Colab\"/></a>"
      ]
    },
    {
      "cell_type": "code",
      "metadata": {
        "colab": {
          "base_uri": "https://localhost:8080/"
        },
        "id": "Zi4QGzsQiqAO",
        "outputId": "216f9c91-bfe8-4377-c961-97c2c1b939fd"
      },
      "source": [
        "import numpy as np\n",
        "\n",
        "##instantiate the given\n",
        "A = np.array([[1,1,1],[1,2,2],[1,2,3]])\n",
        "Ai = np.linalg.inv(A)\n",
        "B = np.array([[5],[6],[8]])\n",
        "\n",
        "print(\"A\\n\",A)\n",
        "print(\"\\nInverse of A\\n\",Ai)\n",
        "print(\"\\nB\\n\",B)\n",
        "\n",
        "##now solve\n",
        "X = np.dot(Ai,B)\n",
        "print(\"\\nAnswer\\n\",X)\n"
      ],
      "execution_count": 12,
      "outputs": [
        {
          "output_type": "stream",
          "name": "stdout",
          "text": [
            "A\n",
            " [[1 1 1]\n",
            " [1 2 2]\n",
            " [1 2 3]]\n",
            "\n",
            "Inverse of A\n",
            " [[ 2. -1.  0.]\n",
            " [-1.  2. -1.]\n",
            " [ 0. -1.  1.]]\n",
            "\n",
            "B\n",
            " [[5]\n",
            " [6]\n",
            " [8]]\n",
            "\n",
            "Answer\n",
            " [[ 4.]\n",
            " [-1.]\n",
            " [ 2.]]\n"
          ]
        }
      ]
    }
  ]
}