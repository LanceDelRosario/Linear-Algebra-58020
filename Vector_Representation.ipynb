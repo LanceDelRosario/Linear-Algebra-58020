{
  "nbformat": 4,
  "nbformat_minor": 0,
  "metadata": {
    "colab": {
      "name": "Vector Representation",
      "provenance": [],
      "authorship_tag": "ABX9TyNhgt8+bXrK0Wd0EdGkj1sS",
      "include_colab_link": true
    },
    "kernelspec": {
      "name": "python3",
      "display_name": "Python 3"
    },
    "language_info": {
      "name": "python"
    }
  },
  "cells": [
    {
      "cell_type": "markdown",
      "metadata": {
        "id": "view-in-github",
        "colab_type": "text"
      },
      "source": [
        "<a href=\"https://colab.research.google.com/github/LanceDelRosario/Linear-Algebra-58020/blob/main/Vector_Representation.ipynb\" target=\"_parent\"><img src=\"https://colab.research.google.com/assets/colab-badge.svg\" alt=\"Open In Colab\"/></a>"
      ]
    },
    {
      "cell_type": "markdown",
      "metadata": {
        "id": "GsmHjjKFA6hB"
      },
      "source": [
        "#Matrix and its operation"
      ]
    },
    {
      "cell_type": "code",
      "metadata": {
        "colab": {
          "base_uri": "https://localhost:8080/"
        },
        "id": "icloYTUVBAaA",
        "outputId": "ff35c1c7-3d59-4699-e64b-e9bfd4c4156e"
      },
      "source": [
        "#Example 1\n",
        "\n",
        "import numpy as np \n",
        "#Create a 1x3 array\n",
        "a = np.array([1,2,3])\n",
        "print(a)"
      ],
      "execution_count": 1,
      "outputs": [
        {
          "output_type": "stream",
          "name": "stdout",
          "text": [
            "[1 2 3]\n"
          ]
        }
      ]
    },
    {
      "cell_type": "code",
      "metadata": {
        "colab": {
          "base_uri": "https://localhost:8080/"
        },
        "id": "oyaOXIfsB6-x",
        "outputId": "b62301da-5e17-41ac-80a8-4177c2c57cc9"
      },
      "source": [
        "#Example 2\n",
        "#Creating a 2x2 matrix\n",
        "\n",
        "b = np.array ([[1,2,3],[4,5,6]])\n",
        "print (b)"
      ],
      "execution_count": 10,
      "outputs": [
        {
          "output_type": "stream",
          "name": "stdout",
          "text": [
            "[[1 2 3]\n",
            " [4 5 6]]\n"
          ]
        }
      ]
    },
    {
      "cell_type": "code",
      "metadata": {
        "colab": {
          "base_uri": "https://localhost:8080/"
        },
        "id": "cN4GnMP6ClMc",
        "outputId": "f47ad3ba-7c34-4bee-9b03-519865b3bd01"
      },
      "source": [
        "#Example 3\n",
        "#Create a 3x3 matrix\n",
        "\n",
        "c = np.array([[1,2,3],[4,5,6],[7,8,9]])\n",
        "print(c)"
      ],
      "execution_count": 11,
      "outputs": [
        {
          "output_type": "stream",
          "name": "stdout",
          "text": [
            "[[1 2 3]\n",
            " [4 5 6]\n",
            " [7 8 9]]\n"
          ]
        }
      ]
    },
    {
      "cell_type": "code",
      "metadata": {
        "colab": {
          "base_uri": "https://localhost:8080/"
        },
        "id": "ZqVrBwqZC57w",
        "outputId": "14465db5-b83b-4cbe-f8f8-112fec469917"
      },
      "source": [
        "#Example 4\n",
        "#Creating a constant array with all values are the same\n",
        "#The format will be x = np.full((dimension,dimension),number)\n",
        "\n",
        "d= np.full((5,5),6)\n",
        "print (d)"
      ],
      "execution_count": 14,
      "outputs": [
        {
          "output_type": "stream",
          "name": "stdout",
          "text": [
            "[[6 6 6 6 6]\n",
            " [6 6 6 6 6]\n",
            " [6 6 6 6 6]\n",
            " [6 6 6 6 6]\n",
            " [6 6 6 6 6]]\n"
          ]
        }
      ]
    },
    {
      "cell_type": "code",
      "metadata": {
        "colab": {
          "base_uri": "https://localhost:8080/"
        },
        "id": "DwzwuX0xDdiO",
        "outputId": "44f40fe6-7207-4576-b090-d411cc317e50"
      },
      "source": [
        "#Example 5\n",
        "#Create a diagonal matrix\n",
        "#The command \"np.diagonal\" will take the elements in the diagonal of the array\n",
        "\n",
        "e = e = np.array([[1,2,3],[4,5,6],[7,8,9]])\n",
        "print (e)\n",
        "e = np.diagonal([[1,2,3],[4,5,6],[7,8,9]])\n",
        "print (e)"
      ],
      "execution_count": 19,
      "outputs": [
        {
          "output_type": "stream",
          "name": "stdout",
          "text": [
            "[[1 2 3]\n",
            " [4 5 6]\n",
            " [7 8 9]]\n",
            "[1 5 9]\n"
          ]
        }
      ]
    },
    {
      "cell_type": "code",
      "metadata": {
        "colab": {
          "base_uri": "https://localhost:8080/"
        },
        "id": "LK7yB7Q-EcPT",
        "outputId": "de47dcf0-8d12-4021-f76f-92a9dbccba16"
      },
      "source": [
        "#Example 6\n",
        "#Creating an identity matrix\n",
        "#We can use \"np.eye\" or \"np.identity\" it produces the same result\n",
        "#Identity matrix is a matrix that has the same number in the diagonal\n",
        "\n",
        "f = np.identity(3)\n",
        "print (f)"
      ],
      "execution_count": 33,
      "outputs": [
        {
          "output_type": "stream",
          "name": "stdout",
          "text": [
            "[[1. 0. 0.]\n",
            " [0. 1. 0.]\n",
            " [0. 0. 1.]]\n"
          ]
        }
      ]
    },
    {
      "cell_type": "code",
      "metadata": {
        "colab": {
          "base_uri": "https://localhost:8080/"
        },
        "id": "GmbMWSfIE_zV",
        "outputId": "bc73a6ec-aea1-4d4e-aea6-fb2dab519951"
      },
      "source": [
        "#Example 7\n",
        "#Creating a zero matrix\n",
        "#Format will be \"x = np.zeros((dimension,dimension))\"\n",
        "\n",
        "g = np.zeros((2,5))\n",
        "print (g)"
      ],
      "execution_count": 32,
      "outputs": [
        {
          "output_type": "stream",
          "name": "stdout",
          "text": [
            "[[0. 0. 0. 0. 0.]\n",
            " [0. 0. 0. 0. 0.]]\n"
          ]
        }
      ]
    },
    {
      "cell_type": "code",
      "metadata": {
        "colab": {
          "base_uri": "https://localhost:8080/"
        },
        "id": "pKz_BgVRFWZt",
        "outputId": "22348b48-2a6a-42e7-e070-9ba20c954092"
      },
      "source": [
        "#Example 8\n",
        "#Creating an empty matrix\n",
        "\n",
        "h = np.empty((0,5))\n",
        "print(h)"
      ],
      "execution_count": 31,
      "outputs": [
        {
          "output_type": "stream",
          "name": "stdout",
          "text": [
            "[]\n"
          ]
        }
      ]
    },
    {
      "cell_type": "code",
      "metadata": {
        "colab": {
          "base_uri": "https://localhost:8080/"
        },
        "id": "RUHTegyLFzNU",
        "outputId": "14d66d54-6ccb-423c-ed1a-48fabec62e7b"
      },
      "source": [
        "#Example 9\n",
        "#Addition of matrices\n",
        "\n",
        "i = np.array([[1,2,3],[4,5,6]])\n",
        "j = np.array([[1,2,3],[4,5,6]])\n",
        "print(i+j)\n"
      ],
      "execution_count": 36,
      "outputs": [
        {
          "output_type": "stream",
          "name": "stdout",
          "text": [
            "[[ 2  4  6]\n",
            " [ 8 10 12]]\n"
          ]
        }
      ]
    },
    {
      "cell_type": "code",
      "metadata": {
        "colab": {
          "base_uri": "https://localhost:8080/"
        },
        "id": "WcPHwCPxGaxF",
        "outputId": "4011409c-f6b4-4fe9-b7a4-e858169ee788"
      },
      "source": [
        "#Example 10\n",
        "#Substraction of Matrices\n",
        "\n",
        "k = np.array([[1,2,3],[4,5,6]])\n",
        "l = np.array([[-1,2,4],[7,4,2]])\n",
        "\n",
        "print(k)\n",
        "print(l)\n",
        "print(k-l)\n"
      ],
      "execution_count": 40,
      "outputs": [
        {
          "output_type": "stream",
          "name": "stdout",
          "text": [
            "[[1 2 3]\n",
            " [4 5 6]]\n",
            "[[-1  2  4]\n",
            " [ 7  4  2]]\n",
            "[[ 2  0 -1]\n",
            " [-3  1  4]]\n"
          ]
        }
      ]
    },
    {
      "cell_type": "code",
      "metadata": {
        "id": "wbFlbJu-GZ5z"
      },
      "source": [
        ""
      ],
      "execution_count": null,
      "outputs": []
    }
  ]
}